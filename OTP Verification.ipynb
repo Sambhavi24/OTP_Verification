{
 "cells": [
  {
   "cell_type": "code",
   "execution_count": 16,
   "id": "537f6d44",
   "metadata": {},
   "outputs": [],
   "source": [
    "from twilio.rest import Client # API used for the automation of lot of things like sms,call.\n",
    "import random # used to create 4 digit random no.as otp\n",
    "from tkinter import * # used to create GUI\n",
    "from tkinter import messagebox"
   ]
  },
  {
   "cell_type": "code",
   "execution_count": 17,
   "id": "1b04addb",
   "metadata": {},
   "outputs": [],
   "source": [
    "class otp_verifier(Tk):\n",
    "    def __init__(self):\n",
    "        super().__init__()\n",
    "        self.geometry(\"600x550\")\n",
    "        self.resizable(FALSE,FALSE)\n",
    "        self.n=random.randint(1000,9999)\n",
    "        self.client=Client(\"XXXXXXXXXXXXXXXX\",\"XXXXXXXXXXXXXXX\")\n",
    "        self.client.messages.create(to=[\"+91XXXXXXXXXX\"],\n",
    "                                   from_=\"+XXXXXXXXXXX\",\n",
    "                                   body=self.n)\n",
    "        # GUI for OTP verification\n",
    "    def Labels(self):\n",
    "        self.c=Canvas(self,bg=\"white\",width=400,height=280)\n",
    "        self.c.place(x=100,y=60)\n",
    "        \n",
    "        self.Login_Title=Label(self,text=\"OTP Verification\",font=\"bold 20\",bg=\"white\")\n",
    "        self.Login_Title.place(x=210,y=90)\n",
    "        \n",
    "        # Create textbox\n",
    "    def Entry(self):\n",
    "        self.User_Name=Text(self,borderwidth=2,wrap=\"word\",width=29,height=2)\n",
    "        self.User_Name.place(x=190,y=160)\n",
    "        \n",
    "        # Create Buttons\n",
    "    def Buttons(self):\n",
    "        self.submitButton=Button(self,text=\"Submit\",compound=CENTER,bg='yellow',width=25,font=\"arial 14 bold\",borderwidth='0.2c',command=self.checkOTP,border=0)\n",
    "        self.submitButton.place(x=160,y=250)\n",
    "    \n",
    "        \n",
    "        self.resendOTP=Button(self,text=\"Resend OTP\",compound=CENTER,bg='yellow',width=25,font=\"arial 14 bold\",borderwidth='0.2c',command=self.resendOTP,border=0)\n",
    "        self.resendOTP.place(x=160,y=400)\n",
    "        \n",
    "        \n",
    "        # OTP Verifier\n",
    "    def checkOTP(self):\n",
    "        try:\n",
    "            self.userInput=int(self.User_Name.get(1.0,\"end-1c\"))\n",
    "            if self.userInput==self.n:\n",
    "                messagebox.showinfo(\"showinfo\",\"Login Success\")\n",
    "                self.n=\"done\"\n",
    "            elif self.n==\"done\":\n",
    "                messagebox.showinfo(\"showinfo\",\"already entered the OTP\")\n",
    "            else:\n",
    "                messagebox.showinfo(\"showinfo\",\"wrong OTP\")\n",
    "        except:\n",
    "            messagebox.showinfo(\"Showinfo\",\"INVALID OTP\")\n",
    "        \n",
    "       # code to send oyp using twilio\n",
    "    def resendOTP(self):\n",
    "        self.n=random.randint(1000,9999)\n",
    "        self.client=Client(\"XXXXXXXXXXXXXXXXX\",\"XXXXXXXXXXXXXXXX\")\n",
    "        self.client.messages.create(to=(\"+91XXXXXXXXXX\"),\n",
    "                                   from_=\"+XXXXXXXXXXX\",\n",
    "                                   body=self.n)\n",
    "        \n",
    "    "
   ]
  },
  {
   "cell_type": "code",
   "execution_count": 18,
   "id": "2af49d55",
   "metadata": {},
   "outputs": [],
   "source": [
    "if __name__==\"__main__\":\n",
    "    window=otp_verifier()\n",
    "    window.Labels()\n",
    "    window.Entry()\n",
    "    window.Buttons()\n",
    "    window.mainloop()"
   ]
  },
  {
   "cell_type": "code",
   "execution_count": null,
   "id": "98c33267",
   "metadata": {},
   "outputs": [],
   "source": []
  },
  {
   "cell_type": "code",
   "execution_count": null,
   "id": "1b8fb8df",
   "metadata": {},
   "outputs": [],
   "source": []
  }
 ],
 "metadata": {
  "kernelspec": {
   "display_name": "Python 3 (ipykernel)",
   "language": "python",
   "name": "python3"
  },
  "language_info": {
   "codemirror_mode": {
    "name": "ipython",
    "version": 3
   },
   "file_extension": ".py",
   "mimetype": "text/x-python",
   "name": "python",
   "nbconvert_exporter": "python",
   "pygments_lexer": "ipython3",
   "version": "3.11.3"
  }
 },
 "nbformat": 4,
 "nbformat_minor": 5
}
